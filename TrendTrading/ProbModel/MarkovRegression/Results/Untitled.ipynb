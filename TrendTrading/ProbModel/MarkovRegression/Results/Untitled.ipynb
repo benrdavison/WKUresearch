{
 "cells": [
  {
   "cell_type": "code",
   "execution_count": 6,
   "metadata": {},
   "outputs": [],
   "source": [
    "import numpy as np\n",
    "import pandas as pd \n",
    "import statsmodels.api as sm\n",
    "import matplotlib.pyplot as pyplot\n",
    "\n",
    "\n",
    "spyData= pd.read_csv('C:/Users/Ben/iCloudDrive/EclipseWorkspace/NewResearch/TrendTrading/ProbModel/Data/SPY.csv')\n",
    "spyData= spyData['Price'].values.tolist()\n",
    "spy_dta= pd.Series(spyData, index=pd.date_range('1996-04-09', '2006-02-05', freq='M'))\n",
    "mod_spy = sm.tsa.MarkovAutoregression(spy_dta, k_regimes=2, order=4, switching_ar=False)\n",
    "res_spy = mod_spy.fit()\n",
    "\n",
    "np.set_printoptions(suppress=True, formatter={'float_kind':'{:16.3f}'.format}, linewidth=130)"
   ]
  },
  {
   "cell_type": "code",
   "execution_count": 7,
   "metadata": {},
   "outputs": [
    {
     "name": "stdout",
     "output_type": "stream",
     "text": [
      "[           9.859            3.796] \n",
      "\n"
     ]
    }
   ],
   "source": [
    "print(res_spy.expected_durations, \"\\n\")"
   ]
  },
  {
   "cell_type": "code",
   "execution_count": 8,
   "metadata": {},
   "outputs": [
    {
     "name": "stdout",
     "output_type": "stream",
     "text": [
      "[           0.500            0.500] \n",
      "\n"
     ]
    }
   ],
   "source": [
    "print(mod_spy.initial_probabilities(mod_spy.start_params), \"\\n\")"
   ]
  },
  {
   "cell_type": "code",
   "execution_count": 9,
   "metadata": {},
   "outputs": [
    {
     "name": "stdout",
     "output_type": "stream",
     "text": [
      "[          27.032           27.710           27.489           27.760           28.598           28.332           29.136\n",
      "           28.701           29.025           29.977           29.251           28.153           28.273           28.544\n",
      "           28.048           29.070           29.877           29.385           30.275           28.951           29.172\n",
      "           29.989           31.281           32.172           33.312           34.506           35.144           36.430\n",
      "           36.602           37.949           38.012           39.715           40.034           41.807           41.873\n",
      "           42.593           43.053           44.041           44.203           42.699           43.349           45.038\n",
      "           47.111           50.458           49.393           52.686           52.545           51.015           53.766\n",
      "           56.466           59.516           64.063           61.317           64.084           61.966           64.883\n",
      "           65.337           67.008           71.162           74.387           76.135           74.812           77.268\n",
      "           75.929           66.890           69.694           73.626           79.541           84.767           87.788\n",
      "           85.721           88.699           91.091           90.357           94.580           91.672           91.956\n",
      "           89.143           94.613           96.132          102.032           97.340           96.756          103.365\n",
      "          100.829          100.982          100.780          100.027          106.106          100.521          101.097\n",
      "           92.618           92.451           95.028           87.433           83.503           87.895           87.882\n",
      "           87.490           85.849           80.728           74.515           74.818           79.594           80.978\n",
      "           81.223           79.418           81.271           77.160           77.028           70.529           66.048\n",
      "           65.110           58.669] \n",
      "\n"
     ]
    }
   ],
   "source": [
    "print(mod_spy.predict(mod_spy.start_params), \"\\n\")"
   ]
  },
  {
   "cell_type": "code",
   "execution_count": 10,
   "metadata": {},
   "outputs": [
    {
     "name": "stdout",
     "output_type": "stream",
     "text": [
      "[[[           0.622]\n",
      "  [           0.622]]\n",
      "\n",
      " [[           0.378]\n",
      "  [           0.378]]]\n"
     ]
    }
   ],
   "source": [
    "print(mod_spy.regime_transition_matrix(mod_spy.transform_params(mod_spy.start_params)))"
   ]
  },
  {
   "cell_type": "code",
   "execution_count": 12,
   "metadata": {},
   "outputs": [
    {
     "name": "stdout",
     "output_type": "stream",
     "text": [
      "['p[0->0]', 'p[1->0]', 'const[0]', 'const[1]', 'sigma2', 'ar.L1', 'ar.L2', 'ar.L3', 'ar.L4']\n"
     ]
    }
   ],
   "source": [
    "print(mod_spy.param_names)"
   ]
  },
  {
   "cell_type": "code",
   "execution_count": 13,
   "metadata": {},
   "outputs": [
    {
     "name": "stdout",
     "output_type": "stream",
     "text": [
      "[           0.500            0.500            0.000            0.704           11.113            0.910            0.027\n",
      "            0.163           -0.117]\n"
     ]
    }
   ],
   "source": [
    "print(mod_spy.start_params)"
   ]
  },
  {
   "cell_type": "code",
   "execution_count": 67,
   "metadata": {},
   "outputs": [],
   "source": [
    "testParams= np.array([0.900, 0.100, 0.000, 0.704, 11.113, 0.910, 0.027, 0.163, -0.117])"
   ]
  },
  {
   "cell_type": "code",
   "execution_count": 68,
   "metadata": {},
   "outputs": [
    {
     "name": "stdout",
     "output_type": "stream",
     "text": [
      "[           0.900            0.100            0.000            0.704           11.113            0.910            0.027\n",
      "            0.163           -0.117]\n"
     ]
    }
   ],
   "source": [
    "print(testParams)"
   ]
  },
  {
   "cell_type": "code",
   "execution_count": 38,
   "metadata": {},
   "outputs": [
    {
     "name": "stdout",
     "output_type": "stream",
     "text": [
      "[          -2.195           -2.144           -2.155           -2.234           -2.140           -2.205           -2.138\n",
      "           -2.159           -2.258           -2.140           -2.177           -2.157           -2.185           -2.139\n",
      "           -2.234           -2.256           -2.139           -2.220           -2.164           -2.149           -2.247\n",
      "           -2.316           -2.228           -2.261           -2.298           -2.199           -2.303           -2.165\n",
      "           -2.315           -2.161           -2.392           -2.190           -2.408           -2.169           -2.211\n",
      "           -2.209           -2.279           -2.180           -2.186           -2.211           -2.522           -2.523\n",
      "           -3.018           -2.146           -2.837           -2.210           -2.216           -2.744           -3.037\n",
      "           -2.802           -3.730           -2.333           -2.652           -2.157           -2.789           -2.317\n",
      "           -2.428           -3.593           -3.197           -2.497           -2.152           -2.758           -2.154\n",
      "           -6.027           -2.761           -4.433           -4.615           -4.069           -3.114           -2.213\n",
      "           -2.886           -3.232           -2.140           -3.672           -2.191           -2.208           -2.222\n",
      "           -4.704           -2.780           -4.712           -2.593           -2.141           -6.439           -2.142\n",
      "           -2.144           -2.348           -2.168           -5.332           -2.828           -2.217           -4.181\n",
      "           -2.162           -3.599           -3.962           -2.919           -4.570           -2.423           -2.138\n",
      "           -2.139           -2.774           -3.605           -2.276           -4.726           -2.530           -2.183\n",
      "           -2.164           -2.710           -2.513           -2.159           -3.290           -2.942           -2.177\n",
      "           -3.531           -3.817]\n"
     ]
    }
   ],
   "source": [
    "print(mod_spy.loglikeobs(testParams))"
   ]
  },
  {
   "cell_type": "code",
   "execution_count": 18,
   "metadata": {},
   "outputs": [
    {
     "name": "stdout",
     "output_type": "stream",
     "text": [
      "[          27.038           27.710           27.484           27.775           28.580           28.352           29.127\n",
      "           28.705           29.023           29.978           29.262           28.151           28.277           28.544\n",
      "           28.043           29.084           29.851           29.420           30.252           28.979           29.154\n",
      "           29.995           31.279           32.169           33.326           34.486           35.174           36.397\n",
      "           36.645           37.909           38.057           39.673           40.071           41.781           41.898\n",
      "           42.581           43.052           44.048           44.214           42.699           43.370           44.987\n",
      "           47.167           50.402           49.439           52.666           52.573           51.006           53.793\n",
      "           56.386           59.610           63.961           61.447           63.983           62.047           64.841\n",
      "           65.360           67.004           71.137           74.414           76.131           74.781           77.337\n",
      "           75.893           66.992           69.602           73.659           79.483           84.825           87.780\n",
      "           85.725           88.740           91.004           90.469           94.456           91.841           91.827\n",
      "           89.279           94.455           96.236          102.009           97.354           96.774          103.327\n",
      "          100.850          101.057          100.664          100.149          105.954          100.694          101.018\n",
      "           92.662           92.425           95.060           87.443           83.527           87.836           87.906\n",
      "           87.486           85.888           80.760           74.500           74.826           79.527           81.070\n",
      "           81.145           79.515           81.174           77.234           77.025           70.504           66.152\n",
      "           64.996           58.783]\n"
     ]
    }
   ],
   "source": [
    "print(mod_spy.predict(testParams))"
   ]
  },
  {
   "cell_type": "code",
   "execution_count": 19,
   "metadata": {},
   "outputs": [],
   "source": [
    "import matplotlib.pyplot as plt"
   ]
  },
  {
   "cell_type": "code",
   "execution_count": 20,
   "metadata": {},
   "outputs": [
    {
     "data": {
      "text/plain": [
       "[<matplotlib.lines.Line2D at 0x19b242cf630>]"
      ]
     },
     "execution_count": 20,
     "metadata": {},
     "output_type": "execute_result"
    },
    {
     "data": {
      "image/png": "[encoded data removed]",
      "text/plain": [
       "<Figure size 432x288 with 1 Axes>"
      ]
     },
     "metadata": {},
     "output_type": "display_data"
    }
   ],
   "source": [
    "plt.plot(mod_spy.predict(testParams))"
   ]
  },
  {
   "cell_type": "code",
   "execution_count": 21,
   "metadata": {},
   "outputs": [
    {
     "data": {
      "text/plain": [
       "[<matplotlib.lines.Line2D at 0x19b24369128>]"
      ]
     },
     "execution_count": 21,
     "metadata": {},
     "output_type": "execute_result"
    },
    {
     "data": {
      "image/png": "[encoded data removed]",
      "text/plain": [
       "<Figure size 432x288 with 1 Axes>"
      ]
     },
     "metadata": {},
     "output_type": "display_data"
    }
   ],
   "source": [
    "plt.plot(spyData)"
   ]
  },
  {
   "cell_type": "code",
   "execution_count": 34,
   "metadata": {},
   "outputs": [
    {
     "data": {
      "text/plain": [
       "0.978638913870755"
      ]
     },
     "execution_count": 34,
     "metadata": {},
     "output_type": "execute_result"
    }
   ],
   "source": [
    "np.corrcoef(spyData[:114], mod_spy.predict(testParams))[0, 1]"
   ]
  },
  {
   "cell_type": "code",
   "execution_count": 27,
   "metadata": {},
   "outputs": [],
   "source": [
    "import statsmodels.tsa.stattools as ts"
   ]
  },
  {
   "cell_type": "code",
   "execution_count": 32,
   "metadata": {},
   "outputs": [],
   "source": [
    "result = ts.coint(spyData[:114], mod_spy.predict(testParams)) "
   ]
  },
  {
   "cell_type": "code",
   "execution_count": 33,
   "metadata": {},
   "outputs": [
    {
     "data": {
      "text/plain": [
       "(-1.1026967047004954,\n",
       " 0.881575576268339,\n",
       " array([          -3.996,           -3.391,           -3.082]))"
      ]
     },
     "execution_count": 33,
     "metadata": {},
     "output_type": "execute_result"
    }
   ],
   "source": [
    "result"
   ]
  },
  {
   "cell_type": "code",
   "execution_count": 56,
   "metadata": {},
   "outputs": [],
   "source": [
    "x=range(120)\n",
    "y=range(120)"
   ]
  },
  {
   "cell_type": "code",
   "execution_count": 57,
   "metadata": {},
   "outputs": [
    {
     "data": {
      "image/png": "[encoded data removed]",
      "text/plain": [
       "<Figure size 432x288 with 1 Axes>"
      ]
     },
     "metadata": {},
     "output_type": "display_data"
    }
   ],
   "source": [
    "fig=plt.figure()\n",
    "ax1=fig.add_subplot(111)"
   ]
  },
  {
   "cell_type": "code",
   "execution_count": 62,
   "metadata": {},
   "outputs": [
    {
     "data": {
      "text/plain": [
       "[<matplotlib.lines.Line2D at 0x19b25bb4a58>]"
      ]
     },
     "execution_count": 62,
     "metadata": {},
     "output_type": "execute_result"
    },
    {
     "data": {
      "image/png": "[encoded data removed]",
      "text/plain": [
       "<Figure size 432x288 with 1 Axes>"
      ]
     },
     "metadata": {},
     "output_type": "display_data"
    }
   ],
   "source": [
    "plt.plot()\n",
    "plt.plot(mod_spy.predict(testParams))\n",
    "plt.plot(mod_spy.predict(mod_spy.start_params))"
   ]
  },
  {
   "cell_type": "code",
   "execution_count": 63,
   "metadata": {},
   "outputs": [
    {
     "data": {
      "text/plain": [
       "array([           0.300,            0.700,            0.000,            0.704,           11.113,            0.910,\n",
       "                  0.027,            0.163,           -0.117])"
      ]
     },
     "execution_count": 63,
     "metadata": {},
     "output_type": "execute_result"
    }
   ],
   "source": [
    "testParams"
   ]
  },
  {
   "cell_type": "code",
   "execution_count": 64,
   "metadata": {},
   "outputs": [
    {
     "data": {
      "text/plain": [
       "array([           0.500,            0.500,            0.000,            0.704,           11.113,            0.910,\n",
       "                  0.027,            0.163,           -0.117])"
      ]
     },
     "execution_count": 64,
     "metadata": {},
     "output_type": "execute_result"
    }
   ],
   "source": [
    "mod_spy.start_params"
   ]
  },
  {
   "cell_type": "code",
   "execution_count": 65,
   "metadata": {},
   "outputs": [
    {
     "data": {
      "text/plain": [
       "array([          27.032,           27.710,           27.489,           27.760,           28.598,           28.332,\n",
       "                 29.136,           28.701,           29.025,           29.977,           29.251,           28.153,\n",
       "                 28.273,           28.544,           28.048,           29.070,           29.877,           29.385,\n",
       "                 30.275,           28.951,           29.172,           29.989,           31.281,           32.172,\n",
       "                 33.312,           34.506,           35.144,           36.430,           36.602,           37.949,\n",
       "                 38.012,           39.715,           40.034,           41.807,           41.873,           42.593,\n",
       "                 43.053,           44.041,           44.203,           42.699,           43.349,           45.038,\n",
       "                 47.111,           50.458,           49.393,           52.686,           52.545,           51.015,\n",
       "                 53.766,           56.466,           59.516,           64.063,           61.317,           64.084,\n",
       "                 61.966,           64.883,           65.337,           67.008,           71.162,           74.387,\n",
       "                 76.135,           74.812,           77.268,           75.929,           66.890,           69.694,\n",
       "                 73.626,           79.541,           84.767,           87.788,           85.721,           88.699,\n",
       "                 91.091,           90.357,           94.580,           91.672,           91.956,           89.143,\n",
       "                 94.613,           96.132,          102.032,           97.340,           96.756,          103.365,\n",
       "                100.829,          100.982,          100.780,          100.027,          106.106,          100.521,\n",
       "                101.097,           92.618,           92.451,           95.028,           87.433,           83.503,\n",
       "                 87.895,           87.882,           87.490,           85.849,           80.728,           74.515,\n",
       "                 74.818,           79.594,           80.978,           81.223,           79.418,           81.271,\n",
       "                 77.160,           77.028,           70.529,           66.048,           65.110,           58.669])"
      ]
     },
     "execution_count": 65,
     "metadata": {},
     "output_type": "execute_result"
    }
   ],
   "source": [
    "mod_spy.predict(mod_spy.start_params)"
   ]
  },
  {
   "cell_type": "code",
   "execution_count": 69,
   "metadata": {},
   "outputs": [
    {
     "data": {
      "text/plain": [
       "array([          27.019,           27.719,           27.498,           27.745,           28.619,           28.317,\n",
       "                 29.154,           28.701,           29.007,           29.986,           29.266,           28.147,\n",
       "                 28.262,           28.564,           28.044,           29.053,           29.905,           29.353,\n",
       "                 30.308,           28.942,           29.174,           29.980,           31.291,           32.177,\n",
       "                 33.305,           34.523,           35.125,           36.457,           36.576,           37.984,\n",
       "                 37.982,           39.747,           40.004,           41.833,           41.867,           42.598,\n",
       "                 43.040,           44.030,           44.236,           42.702,           43.330,           45.062,\n",
       "                 47.059,           50.537,           49.333,           52.696,           52.593,           51.002,\n",
       "                 53.747,           56.504,           59.427,           64.191,           61.219,           64.172,\n",
       "                 61.897,           64.924,           65.357,           66.983,           71.168,           74.383,\n",
       "                 76.182,           74.758,           77.204,           76.095,           66.820,           69.701,\n",
       "                 73.596,           79.566,           84.745,           87.878,           85.698,           88.652,\n",
       "                 91.180,           90.241,           94.684,           91.598,           92.094,           89.014,\n",
       "                 94.699,           96.019,          102.155,           97.391,           96.617,          103.441,\n",
       "                100.853,          100.964,          100.874,           99.850,          106.271,          100.401,\n",
       "                101.240,           92.565,           92.350,           95.125,           87.511,           83.403,\n",
       "                 87.914,           87.886,           87.481,           85.862,           80.797,           74.515,\n",
       "                 74.740,           79.637,           80.976,           81.309,           79.316,           81.361,\n",
       "                 77.078,           77.075,           70.568,           65.949,           65.264,           58.520])"
      ]
     },
     "execution_count": 69,
     "metadata": {},
     "output_type": "execute_result"
    }
   ],
   "source": [
    "mod_spy.predict(testParams)"
   ]
  },
  {
   "cell_type": "code",
   "execution_count": null,
   "metadata": {},
   "outputs": [],
   "source": []
  }
 ],
 "metadata": {
  "kernelspec": {
   "display_name": "Python 3",
   "language": "python",
   "name": "python3"
  },
  "language_info": {
   "codemirror_mode": {
    "name": "ipython",
    "version": 3
   },
   "file_extension": ".py",
   "mimetype": "text/x-python",
   "name": "python",
   "nbconvert_exporter": "python",
   "pygments_lexer": "ipython3",
   "version": "3.6.5"
  }
 },
 "nbformat": 4,
 "nbformat_minor": 2
}
