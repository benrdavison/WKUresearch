{
 "cells": [
  {
   "cell_type": "code",
   "execution_count": 1,
   "metadata": {},
   "outputs": [],
   "source": [
    "import numpy as np\n",
    "import pandas as pd \n",
    "import statsmodels.api as sm\n",
    "import matplotlib.pyplot as pyplot\n",
    "\n",
    "\n",
    "spyData= pd.read_csv('C:/Users/Ben/iCloudDrive/EclipseWorkspace/NewResearch/TrendTrading/ProbModel/Data/SPY.csv')\n",
    "spyData= spyData['Price'].values.tolist()\n",
    "spy_dta= pd.Series(spyData, index=pd.date_range('1996-04-09', '2006-02-05', freq='M'))\n",
    "mod_spy = sm.tsa.MarkovAutoregression(spy_dta, k_regimes=2, order=4, switching_ar=False)\n",
    "res_spy = mod_spy.fit()\n",
    "\n",
    "# print(res_spy.summary(), \"\\n\")\n",
    "# print(res_spy.expected_durations, \"\\n\")\n",
    "\n",
    "# print(mod_spy.initial_probabilities(mod_spy.start_params), \"\\n\")\n",
    "\n",
    "# print(mod_spy.predict(mod_spy.start_params), \"\\n\")\n",
    "\n",
    "# print(mod_spy.regime_transition_matrix(mod_spy.transform_params(mod_spy.start_params)))"
   ]
  },
  {
   "cell_type": "code",
   "execution_count": 2,
   "metadata": {},
   "outputs": [
    {
     "name": "stdout",
     "output_type": "stream",
     "text": [
      "[ 3.66285346e-03 -1.90354696e-01  2.56081052e-01 -1.10379715e-02\n",
      "  8.08198331e-01  9.09002465e+02  9.04061177e+02  8.99109776e+02\n",
      "  8.94007495e+02]\n"
     ]
    }
   ],
   "source": [
    "print(mod_spy.score(mod_spy.start_params))"
   ]
  },
  {
   "cell_type": "code",
   "execution_count": 3,
   "metadata": {},
   "outputs": [
    {
     "data": {
      "text/plain": [
       "array([ 3.66285346e-03, -1.90354696e-01,  2.56081052e-01, -1.10379715e-02,\n",
       "        8.08198331e-01,  9.09002465e+02,  9.04061177e+02,  8.99109776e+02,\n",
       "        8.94007495e+02])"
      ]
     },
     "execution_count": 3,
     "metadata": {},
     "output_type": "execute_result"
    }
   ],
   "source": [
    "mod_spy.score(mod_spy.start_params)"
   ]
  },
  {
   "cell_type": "code",
   "execution_count": null,
   "metadata": {},
   "outputs": [],
   "source": []
  }
 ],
 "metadata": {
  "kernelspec": {
   "display_name": "Python 3",
   "language": "python",
   "name": "python3"
  },
  "language_info": {
   "codemirror_mode": {
    "name": "ipython",
    "version": 3
   },
   "file_extension": ".py",
   "mimetype": "text/x-python",
   "name": "python",
   "nbconvert_exporter": "python",
   "pygments_lexer": "ipython3",
   "version": "3.6.5"
  }
 },
 "nbformat": 4,
 "nbformat_minor": 2
}
